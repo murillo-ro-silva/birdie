{
 "cells": [
  {
   "cell_type": "code",
   "execution_count": 1,
   "metadata": {},
   "outputs": [],
   "source": [
    "import pyspark.sql.types as st\n",
    "import pyspark.sql.functions as sf\n",
    "from pyspark.sql import SparkSession, SQLContext"
   ]
  },
  {
   "cell_type": "code",
   "execution_count": 2,
   "metadata": {},
   "outputs": [],
   "source": [
    "# Spark Session app\n",
    "spark = SparkSession \\\n",
    "  .builder \\\n",
    "  .appName('birdie') \\\n",
    "  .getOrCreate()\n",
    "\n",
    "# Create a SQL Context\n",
    "sc = spark.sparkContext\n",
    "#sqlContext = SQLContext(sc)"
   ]
  },
  {
   "cell_type": "code",
   "execution_count": null,
   "metadata": {},
   "outputs": [],
   "source": [
    "path_principal = \"/home/jovyan/work/Documents/Projetos-Pessoais/testes-empresas/birdie/files/enwiki_latest_pages_articles_files_new/AA/*\"\n",
    "path_category = \"/home/jovyan/work/Documents/Projetos-Pessoais/testes-empresas/birdie/files/category.csv\""
   ]
  },
  {
   "cell_type": "code",
   "execution_count": null,
   "metadata": {},
   "outputs": [],
   "source": [
    "SCHEMA = spark.read.json(path_principal).schema"
   ]
  },
  {
   "cell_type": "code",
   "execution_count": null,
   "metadata": {},
   "outputs": [],
   "source": [
    "df_original = spark \\\n",
    "    .read \\\n",
    "    .json(path_principal, SCHEMA)"
   ]
  },
  {
   "cell_type": "code",
   "execution_count": null,
   "metadata": {},
   "outputs": [],
   "source": [
    "#df_original.filter(\"id == 1\").show()\n",
    "df_original.count()"
   ]
  },
  {
   "cell_type": "code",
   "execution_count": null,
   "metadata": {},
   "outputs": [],
   "source": [
    "df_original.show(2)\n",
    "# df_original = read.groselect(\n",
    "#     sf.col(\"id\"),\n",
    "#     sf.col(\"text\"),\n",
    "#     sf.col(\"title\"),\n",
    "#     sf.col(\"url\")\n",
    "# )"
   ]
  },
  {
   "cell_type": "code",
   "execution_count": null,
   "metadata": {},
   "outputs": [],
   "source": [
    "# Valid if duplicates exist\n",
    "df_original_val = df_original \\\n",
    "    .groupby(\"id\")\\\n",
    "    .count() \\\n",
    "    .filter('count > 1')"
   ]
  },
  {
   "cell_type": "code",
   "execution_count": null,
   "metadata": {},
   "outputs": [],
   "source": [
    "df_original_val.show(2)"
   ]
  },
  {
   "cell_type": "markdown",
   "metadata": {},
   "source": [
    "#### Start Category Validate."
   ]
  },
  {
   "cell_type": "code",
   "execution_count": null,
   "metadata": {},
   "outputs": [],
   "source": [
    "read_category = spark \\\n",
    "    .read.option(\"delimiter\",\"|\") \\\n",
    "    .csv(path_category, header=True)"
   ]
  },
  {
   "cell_type": "code",
   "execution_count": null,
   "metadata": {},
   "outputs": [],
   "source": [
    "read_category.show(truncate=False)"
   ]
  },
  {
   "cell_type": "code",
   "execution_count": null,
   "metadata": {},
   "outputs": [],
   "source": [
    "# Romove equals duplicity registry in dataset\n",
    "# Create and remove max field\n",
    "read_category_distinct = read_category \\\n",
    "    .groupby(\"cat_id\",\"cat_title\",\"cat_pages\",\"cat_subcats\",\"cat_files\") \\\n",
    "    .agg(sf.max(\"cat_id\").alias(\"max\")).drop(\"max\")"
   ]
  },
  {
   "cell_type": "code",
   "execution_count": null,
   "metadata": {},
   "outputs": [],
   "source": [
    "# Show if the dataset have still duplicitys\n",
    "read_category_distinct\\\n",
    "    .groupby(\"cat_id\")\\\n",
    "    .count()\\\n",
    "    .filter(\"count > 1\")\\\n",
    "    .show()"
   ]
  },
  {
   "cell_type": "code",
   "execution_count": null,
   "metadata": {},
   "outputs": [],
   "source": [
    "read_category_distinct.filter(\"cat_id == 12\").show(truncate=False)"
   ]
  },
  {
   "cell_type": "code",
   "execution_count": null,
   "metadata": {},
   "outputs": [],
   "source": [
    "read_category_distinct.count()"
   ]
  },
  {
   "cell_type": "code",
   "execution_count": null,
   "metadata": {},
   "outputs": [],
   "source": [
    "df_original.filter(\"id == 12\").show()"
   ]
  },
  {
   "cell_type": "code",
   "execution_count": null,
   "metadata": {},
   "outputs": [],
   "source": [
    "df_union_dataset = df_original \\\n",
    "    .join(read_category_distinct, df_original.id == read_category_distinct.cat_id, how='left')"
   ]
  },
  {
   "cell_type": "code",
   "execution_count": null,
   "metadata": {},
   "outputs": [],
   "source": [
    "df_union_dataset.filter(\"cat_id != ''\").show(1)"
   ]
  },
  {
   "cell_type": "code",
   "execution_count": null,
   "metadata": {},
   "outputs": [],
   "source": [
    "df_union_dataset.show(1)"
   ]
  },
  {
   "cell_type": "code",
   "execution_count": null,
   "metadata": {},
   "outputs": [],
   "source": [
    "df_union_dataset \\\n",
    "    .write.mode(\"overwrite\") \\\n",
    "    .json(\"/home/jovyan/work/Documents/Projetos-Pessoais/testes-empresas/birdie/files/wiki_final\")"
   ]
  },
  {
   "cell_type": "markdown",
   "metadata": {},
   "source": [
    "## ELSK + Python"
   ]
  },
  {
   "cell_type": "code",
   "execution_count": null,
   "metadata": {},
   "outputs": [],
   "source": [
    "!pip install elasticsearch"
   ]
  },
  {
   "cell_type": "code",
   "execution_count": 20,
   "metadata": {},
   "outputs": [],
   "source": [
    "# Import Elasticsearch package \n",
    "from elasticsearch import Elasticsearch\n",
    "import pandas as pd"
   ]
  },
  {
   "cell_type": "code",
   "execution_count": 4,
   "metadata": {},
   "outputs": [],
   "source": [
    "# Connect to the elastic cluster\n",
    "es = Elasticsearch([{'host':'172.19.0.3','port':9200}])"
   ]
  },
  {
   "cell_type": "code",
   "execution_count": null,
   "metadata": {},
   "outputs": [],
   "source": [
    "directory = \"/home/jovyan/work/Documents/Projetos-Pessoais/testes-empresas/birdie/files/wiki_final/\""
   ]
  },
  {
   "cell_type": "code",
   "execution_count": 113,
   "metadata": {},
   "outputs": [
    {
     "name": "stdout",
     "output_type": "stream",
     "text": [
      "/home/jovyan/work/Documents/Projetos-Pessoais/testes-empresas/birdie/files/wiki_final/part-00019-b8759e38-959f-4707-94b7-97074c29abc6-c000.json\n",
      "/home/jovyan/work/Documents/Projetos-Pessoais/testes-empresas/birdie/files/wiki_final/part-00036-b8759e38-959f-4707-94b7-97074c29abc6-c000.json\n",
      "/home/jovyan/work/Documents/Projetos-Pessoais/testes-empresas/birdie/files/wiki_final/part-00081-b8759e38-959f-4707-94b7-97074c29abc6-c000.json\n",
      "/home/jovyan/work/Documents/Projetos-Pessoais/testes-empresas/birdie/files/wiki_final/part-00007-b8759e38-959f-4707-94b7-97074c29abc6-c000.json\n",
      "/home/jovyan/work/Documents/Projetos-Pessoais/testes-empresas/birdie/files/wiki_final/part-00002-b8759e38-959f-4707-94b7-97074c29abc6-c000.json\n",
      "/home/jovyan/work/Documents/Projetos-Pessoais/testes-empresas/birdie/files/wiki_final/part-00140-b8759e38-959f-4707-94b7-97074c29abc6-c000.json\n",
      "/home/jovyan/work/Documents/Projetos-Pessoais/testes-empresas/birdie/files/wiki_final/part-00119-b8759e38-959f-4707-94b7-97074c29abc6-c000.json\n",
      "/home/jovyan/work/Documents/Projetos-Pessoais/testes-empresas/birdie/files/wiki_final/part-00073-b8759e38-959f-4707-94b7-97074c29abc6-c000.json\n",
      "/home/jovyan/work/Documents/Projetos-Pessoais/testes-empresas/birdie/files/wiki_final/part-00193-b8759e38-959f-4707-94b7-97074c29abc6-c000.json\n",
      "/home/jovyan/work/Documents/Projetos-Pessoais/testes-empresas/birdie/files/wiki_final/part-00064-b8759e38-959f-4707-94b7-97074c29abc6-c000.json\n",
      "/home/jovyan/work/Documents/Projetos-Pessoais/testes-empresas/birdie/files/wiki_final/part-00118-b8759e38-959f-4707-94b7-97074c29abc6-c000.json\n",
      "/home/jovyan/work/Documents/Projetos-Pessoais/testes-empresas/birdie/files/wiki_final/part-00162-b8759e38-959f-4707-94b7-97074c29abc6-c000.json\n",
      "/home/jovyan/work/Documents/Projetos-Pessoais/testes-empresas/birdie/files/wiki_final/part-00089-b8759e38-959f-4707-94b7-97074c29abc6-c000.json\n",
      "/home/jovyan/work/Documents/Projetos-Pessoais/testes-empresas/birdie/files/wiki_final/part-00003-b8759e38-959f-4707-94b7-97074c29abc6-c000.json\n",
      "/home/jovyan/work/Documents/Projetos-Pessoais/testes-empresas/birdie/files/wiki_final/part-00051-b8759e38-959f-4707-94b7-97074c29abc6-c000.json\n",
      "/home/jovyan/work/Documents/Projetos-Pessoais/testes-empresas/birdie/files/wiki_final/part-00179-b8759e38-959f-4707-94b7-97074c29abc6-c000.json\n",
      "/home/jovyan/work/Documents/Projetos-Pessoais/testes-empresas/birdie/files/wiki_final/part-00149-b8759e38-959f-4707-94b7-97074c29abc6-c000.json\n",
      "/home/jovyan/work/Documents/Projetos-Pessoais/testes-empresas/birdie/files/wiki_final/part-00082-b8759e38-959f-4707-94b7-97074c29abc6-c000.json\n",
      "/home/jovyan/work/Documents/Projetos-Pessoais/testes-empresas/birdie/files/wiki_final/part-00154-b8759e38-959f-4707-94b7-97074c29abc6-c000.json\n",
      "/home/jovyan/work/Documents/Projetos-Pessoais/testes-empresas/birdie/files/wiki_final/part-00128-b8759e38-959f-4707-94b7-97074c29abc6-c000.json\n",
      "/home/jovyan/work/Documents/Projetos-Pessoais/testes-empresas/birdie/files/wiki_final/part-00047-b8759e38-959f-4707-94b7-97074c29abc6-c000.json\n",
      "/home/jovyan/work/Documents/Projetos-Pessoais/testes-empresas/birdie/files/wiki_final/part-00115-b8759e38-959f-4707-94b7-97074c29abc6-c000.json\n",
      "/home/jovyan/work/Documents/Projetos-Pessoais/testes-empresas/birdie/files/wiki_final/part-00101-b8759e38-959f-4707-94b7-97074c29abc6-c000.json\n",
      "/home/jovyan/work/Documents/Projetos-Pessoais/testes-empresas/birdie/files/wiki_final/part-00170-b8759e38-959f-4707-94b7-97074c29abc6-c000.json\n",
      "/home/jovyan/work/Documents/Projetos-Pessoais/testes-empresas/birdie/files/wiki_final/part-00197-b8759e38-959f-4707-94b7-97074c29abc6-c000.json\n",
      "/home/jovyan/work/Documents/Projetos-Pessoais/testes-empresas/birdie/files/wiki_final/part-00013-b8759e38-959f-4707-94b7-97074c29abc6-c000.json\n",
      "/home/jovyan/work/Documents/Projetos-Pessoais/testes-empresas/birdie/files/wiki_final/part-00069-b8759e38-959f-4707-94b7-97074c29abc6-c000.json\n",
      "/home/jovyan/work/Documents/Projetos-Pessoais/testes-empresas/birdie/files/wiki_final/part-00113-b8759e38-959f-4707-94b7-97074c29abc6-c000.json\n",
      "/home/jovyan/work/Documents/Projetos-Pessoais/testes-empresas/birdie/files/wiki_final/part-00120-b8759e38-959f-4707-94b7-97074c29abc6-c000.json\n",
      "/home/jovyan/work/Documents/Projetos-Pessoais/testes-empresas/birdie/files/wiki_final/part-00122-b8759e38-959f-4707-94b7-97074c29abc6-c000.json\n",
      "/home/jovyan/work/Documents/Projetos-Pessoais/testes-empresas/birdie/files/wiki_final/part-00008-b8759e38-959f-4707-94b7-97074c29abc6-c000.json\n",
      "/home/jovyan/work/Documents/Projetos-Pessoais/testes-empresas/birdie/files/wiki_final/part-00157-b8759e38-959f-4707-94b7-97074c29abc6-c000.json\n",
      "/home/jovyan/work/Documents/Projetos-Pessoais/testes-empresas/birdie/files/wiki_final/part-00169-b8759e38-959f-4707-94b7-97074c29abc6-c000.json\n",
      "/home/jovyan/work/Documents/Projetos-Pessoais/testes-empresas/birdie/files/wiki_final/part-00018-b8759e38-959f-4707-94b7-97074c29abc6-c000.json\n",
      "/home/jovyan/work/Documents/Projetos-Pessoais/testes-empresas/birdie/files/wiki_final/part-00048-b8759e38-959f-4707-94b7-97074c29abc6-c000.json\n",
      "/home/jovyan/work/Documents/Projetos-Pessoais/testes-empresas/birdie/files/wiki_final/part-00142-b8759e38-959f-4707-94b7-97074c29abc6-c000.json\n",
      "/home/jovyan/work/Documents/Projetos-Pessoais/testes-empresas/birdie/files/wiki_final/part-00106-b8759e38-959f-4707-94b7-97074c29abc6-c000.json\n",
      "/home/jovyan/work/Documents/Projetos-Pessoais/testes-empresas/birdie/files/wiki_final/part-00017-b8759e38-959f-4707-94b7-97074c29abc6-c000.json\n",
      "/home/jovyan/work/Documents/Projetos-Pessoais/testes-empresas/birdie/files/wiki_final/part-00150-b8759e38-959f-4707-94b7-97074c29abc6-c000.json\n",
      "/home/jovyan/work/Documents/Projetos-Pessoais/testes-empresas/birdie/files/wiki_final/part-00037-b8759e38-959f-4707-94b7-97074c29abc6-c000.json\n",
      "/home/jovyan/work/Documents/Projetos-Pessoais/testes-empresas/birdie/files/wiki_final/part-00167-b8759e38-959f-4707-94b7-97074c29abc6-c000.json\n",
      "/home/jovyan/work/Documents/Projetos-Pessoais/testes-empresas/birdie/files/wiki_final/part-00061-b8759e38-959f-4707-94b7-97074c29abc6-c000.json\n",
      "/home/jovyan/work/Documents/Projetos-Pessoais/testes-empresas/birdie/files/wiki_final/part-00104-b8759e38-959f-4707-94b7-97074c29abc6-c000.json\n",
      "/home/jovyan/work/Documents/Projetos-Pessoais/testes-empresas/birdie/files/wiki_final/part-00184-b8759e38-959f-4707-94b7-97074c29abc6-c000.json\n",
      "/home/jovyan/work/Documents/Projetos-Pessoais/testes-empresas/birdie/files/wiki_final/part-00021-b8759e38-959f-4707-94b7-97074c29abc6-c000.json\n",
      "/home/jovyan/work/Documents/Projetos-Pessoais/testes-empresas/birdie/files/wiki_final/part-00030-b8759e38-959f-4707-94b7-97074c29abc6-c000.json\n",
      "/home/jovyan/work/Documents/Projetos-Pessoais/testes-empresas/birdie/files/wiki_final/part-00105-b8759e38-959f-4707-94b7-97074c29abc6-c000.json\n",
      "/home/jovyan/work/Documents/Projetos-Pessoais/testes-empresas/birdie/files/wiki_final/part-00188-b8759e38-959f-4707-94b7-97074c29abc6-c000.json\n",
      "/home/jovyan/work/Documents/Projetos-Pessoais/testes-empresas/birdie/files/wiki_final/part-00050-b8759e38-959f-4707-94b7-97074c29abc6-c000.json\n",
      "/home/jovyan/work/Documents/Projetos-Pessoais/testes-empresas/birdie/files/wiki_final/part-00144-b8759e38-959f-4707-94b7-97074c29abc6-c000.json\n",
      "/home/jovyan/work/Documents/Projetos-Pessoais/testes-empresas/birdie/files/wiki_final/part-00092-b8759e38-959f-4707-94b7-97074c29abc6-c000.json\n",
      "/home/jovyan/work/Documents/Projetos-Pessoais/testes-empresas/birdie/files/wiki_final/part-00028-b8759e38-959f-4707-94b7-97074c29abc6-c000.json\n",
      "/home/jovyan/work/Documents/Projetos-Pessoais/testes-empresas/birdie/files/wiki_final/part-00038-b8759e38-959f-4707-94b7-97074c29abc6-c000.json\n",
      "/home/jovyan/work/Documents/Projetos-Pessoais/testes-empresas/birdie/files/wiki_final/part-00178-b8759e38-959f-4707-94b7-97074c29abc6-c000.json\n",
      "/home/jovyan/work/Documents/Projetos-Pessoais/testes-empresas/birdie/files/wiki_final/part-00192-b8759e38-959f-4707-94b7-97074c29abc6-c000.json\n",
      "/home/jovyan/work/Documents/Projetos-Pessoais/testes-empresas/birdie/files/wiki_final/part-00196-b8759e38-959f-4707-94b7-97074c29abc6-c000.json\n",
      "/home/jovyan/work/Documents/Projetos-Pessoais/testes-empresas/birdie/files/wiki_final/part-00181-b8759e38-959f-4707-94b7-97074c29abc6-c000.json\n",
      "/home/jovyan/work/Documents/Projetos-Pessoais/testes-empresas/birdie/files/wiki_final/part-00147-b8759e38-959f-4707-94b7-97074c29abc6-c000.json\n",
      "/home/jovyan/work/Documents/Projetos-Pessoais/testes-empresas/birdie/files/wiki_final/part-00126-b8759e38-959f-4707-94b7-97074c29abc6-c000.json\n",
      "/home/jovyan/work/Documents/Projetos-Pessoais/testes-empresas/birdie/files/wiki_final/part-00136-b8759e38-959f-4707-94b7-97074c29abc6-c000.json\n",
      "/home/jovyan/work/Documents/Projetos-Pessoais/testes-empresas/birdie/files/wiki_final/part-00075-b8759e38-959f-4707-94b7-97074c29abc6-c000.json\n",
      "/home/jovyan/work/Documents/Projetos-Pessoais/testes-empresas/birdie/files/wiki_final/part-00161-b8759e38-959f-4707-94b7-97074c29abc6-c000.json\n",
      "/home/jovyan/work/Documents/Projetos-Pessoais/testes-empresas/birdie/files/wiki_final/part-00071-b8759e38-959f-4707-94b7-97074c29abc6-c000.json\n",
      "/home/jovyan/work/Documents/Projetos-Pessoais/testes-empresas/birdie/files/wiki_final/part-00094-b8759e38-959f-4707-94b7-97074c29abc6-c000.json\n",
      "/home/jovyan/work/Documents/Projetos-Pessoais/testes-empresas/birdie/files/wiki_final/part-00054-b8759e38-959f-4707-94b7-97074c29abc6-c000.json\n",
      "/home/jovyan/work/Documents/Projetos-Pessoais/testes-empresas/birdie/files/wiki_final/part-00049-b8759e38-959f-4707-94b7-97074c29abc6-c000.json\n",
      "/home/jovyan/work/Documents/Projetos-Pessoais/testes-empresas/birdie/files/wiki_final/part-00031-b8759e38-959f-4707-94b7-97074c29abc6-c000.json\n",
      "/home/jovyan/work/Documents/Projetos-Pessoais/testes-empresas/birdie/files/wiki_final/part-00090-b8759e38-959f-4707-94b7-97074c29abc6-c000.json\n",
      "/home/jovyan/work/Documents/Projetos-Pessoais/testes-empresas/birdie/files/wiki_final/part-00125-b8759e38-959f-4707-94b7-97074c29abc6-c000.json\n",
      "/home/jovyan/work/Documents/Projetos-Pessoais/testes-empresas/birdie/files/wiki_final/part-00100-b8759e38-959f-4707-94b7-97074c29abc6-c000.json\n",
      "/home/jovyan/work/Documents/Projetos-Pessoais/testes-empresas/birdie/files/wiki_final/part-00033-b8759e38-959f-4707-94b7-97074c29abc6-c000.json\n",
      "/home/jovyan/work/Documents/Projetos-Pessoais/testes-empresas/birdie/files/wiki_final/part-00083-b8759e38-959f-4707-94b7-97074c29abc6-c000.json\n",
      "/home/jovyan/work/Documents/Projetos-Pessoais/testes-empresas/birdie/files/wiki_final/part-00065-b8759e38-959f-4707-94b7-97074c29abc6-c000.json\n",
      "/home/jovyan/work/Documents/Projetos-Pessoais/testes-empresas/birdie/files/wiki_final/part-00153-b8759e38-959f-4707-94b7-97074c29abc6-c000.json\n",
      "/home/jovyan/work/Documents/Projetos-Pessoais/testes-empresas/birdie/files/wiki_final/part-00025-b8759e38-959f-4707-94b7-97074c29abc6-c000.json\n",
      "/home/jovyan/work/Documents/Projetos-Pessoais/testes-empresas/birdie/files/wiki_final/part-00016-b8759e38-959f-4707-94b7-97074c29abc6-c000.json\n",
      "/home/jovyan/work/Documents/Projetos-Pessoais/testes-empresas/birdie/files/wiki_final/part-00160-b8759e38-959f-4707-94b7-97074c29abc6-c000.json\n",
      "/home/jovyan/work/Documents/Projetos-Pessoais/testes-empresas/birdie/files/wiki_final/part-00068-b8759e38-959f-4707-94b7-97074c29abc6-c000.json\n",
      "/home/jovyan/work/Documents/Projetos-Pessoais/testes-empresas/birdie/files/wiki_final/part-00102-b8759e38-959f-4707-94b7-97074c29abc6-c000.json\n",
      "/home/jovyan/work/Documents/Projetos-Pessoais/testes-empresas/birdie/files/wiki_final/part-00022-b8759e38-959f-4707-94b7-97074c29abc6-c000.json\n",
      "/home/jovyan/work/Documents/Projetos-Pessoais/testes-empresas/birdie/files/wiki_final/part-00171-b8759e38-959f-4707-94b7-97074c29abc6-c000.json\n",
      "/home/jovyan/work/Documents/Projetos-Pessoais/testes-empresas/birdie/files/wiki_final/part-00062-b8759e38-959f-4707-94b7-97074c29abc6-c000.json\n",
      "/home/jovyan/work/Documents/Projetos-Pessoais/testes-empresas/birdie/files/wiki_final/part-00139-b8759e38-959f-4707-94b7-97074c29abc6-c000.json\n",
      "/home/jovyan/work/Documents/Projetos-Pessoais/testes-empresas/birdie/files/wiki_final/part-00001-b8759e38-959f-4707-94b7-97074c29abc6-c000.json\n",
      "/home/jovyan/work/Documents/Projetos-Pessoais/testes-empresas/birdie/files/wiki_final/part-00138-b8759e38-959f-4707-94b7-97074c29abc6-c000.json\n",
      "/home/jovyan/work/Documents/Projetos-Pessoais/testes-empresas/birdie/files/wiki_final/part-00063-b8759e38-959f-4707-94b7-97074c29abc6-c000.json\n",
      "/home/jovyan/work/Documents/Projetos-Pessoais/testes-empresas/birdie/files/wiki_final/part-00190-b8759e38-959f-4707-94b7-97074c29abc6-c000.json\n",
      "/home/jovyan/work/Documents/Projetos-Pessoais/testes-empresas/birdie/files/wiki_final/part-00060-b8759e38-959f-4707-94b7-97074c29abc6-c000.json\n",
      "/home/jovyan/work/Documents/Projetos-Pessoais/testes-empresas/birdie/files/wiki_final/part-00158-b8759e38-959f-4707-94b7-97074c29abc6-c000.json\n",
      "/home/jovyan/work/Documents/Projetos-Pessoais/testes-empresas/birdie/files/wiki_final/part-00074-b8759e38-959f-4707-94b7-97074c29abc6-c000.json\n",
      "/home/jovyan/work/Documents/Projetos-Pessoais/testes-empresas/birdie/files/wiki_final/part-00078-b8759e38-959f-4707-94b7-97074c29abc6-c000.json\n",
      "/home/jovyan/work/Documents/Projetos-Pessoais/testes-empresas/birdie/files/wiki_final/part-00172-b8759e38-959f-4707-94b7-97074c29abc6-c000.json\n",
      "/home/jovyan/work/Documents/Projetos-Pessoais/testes-empresas/birdie/files/wiki_final/part-00124-b8759e38-959f-4707-94b7-97074c29abc6-c000.json\n",
      "/home/jovyan/work/Documents/Projetos-Pessoais/testes-empresas/birdie/files/wiki_final/part-00186-b8759e38-959f-4707-94b7-97074c29abc6-c000.json\n",
      "/home/jovyan/work/Documents/Projetos-Pessoais/testes-empresas/birdie/files/wiki_final/part-00052-b8759e38-959f-4707-94b7-97074c29abc6-c000.json\n",
      "/home/jovyan/work/Documents/Projetos-Pessoais/testes-empresas/birdie/files/wiki_final/part-00180-b8759e38-959f-4707-94b7-97074c29abc6-c000.json\n",
      "/home/jovyan/work/Documents/Projetos-Pessoais/testes-empresas/birdie/files/wiki_final/part-00023-b8759e38-959f-4707-94b7-97074c29abc6-c000.json\n",
      "/home/jovyan/work/Documents/Projetos-Pessoais/testes-empresas/birdie/files/wiki_final/part-00055-b8759e38-959f-4707-94b7-97074c29abc6-c000.json\n",
      "/home/jovyan/work/Documents/Projetos-Pessoais/testes-empresas/birdie/files/wiki_final/part-00009-b8759e38-959f-4707-94b7-97074c29abc6-c000.json\n",
      "/home/jovyan/work/Documents/Projetos-Pessoais/testes-empresas/birdie/files/wiki_final/part-00010-b8759e38-959f-4707-94b7-97074c29abc6-c000.json\n",
      "/home/jovyan/work/Documents/Projetos-Pessoais/testes-empresas/birdie/files/wiki_final/part-00132-b8759e38-959f-4707-94b7-97074c29abc6-c000.json\n",
      "/home/jovyan/work/Documents/Projetos-Pessoais/testes-empresas/birdie/files/wiki_final/part-00099-b8759e38-959f-4707-94b7-97074c29abc6-c000.json\n",
      "/home/jovyan/work/Documents/Projetos-Pessoais/testes-empresas/birdie/files/wiki_final/part-00123-b8759e38-959f-4707-94b7-97074c29abc6-c000.json\n",
      "/home/jovyan/work/Documents/Projetos-Pessoais/testes-empresas/birdie/files/wiki_final/part-00020-b8759e38-959f-4707-94b7-97074c29abc6-c000.json\n",
      "/home/jovyan/work/Documents/Projetos-Pessoais/testes-empresas/birdie/files/wiki_final/part-00156-b8759e38-959f-4707-94b7-97074c29abc6-c000.json\n",
      "/home/jovyan/work/Documents/Projetos-Pessoais/testes-empresas/birdie/files/wiki_final/part-00067-b8759e38-959f-4707-94b7-97074c29abc6-c000.json\n",
      "/home/jovyan/work/Documents/Projetos-Pessoais/testes-empresas/birdie/files/wiki_final/part-00152-b8759e38-959f-4707-94b7-97074c29abc6-c000.json\n",
      "/home/jovyan/work/Documents/Projetos-Pessoais/testes-empresas/birdie/files/wiki_final/part-00056-b8759e38-959f-4707-94b7-97074c29abc6-c000.json\n",
      "/home/jovyan/work/Documents/Projetos-Pessoais/testes-empresas/birdie/files/wiki_final/part-00027-b8759e38-959f-4707-94b7-97074c29abc6-c000.json\n",
      "/home/jovyan/work/Documents/Projetos-Pessoais/testes-empresas/birdie/files/wiki_final/part-00006-b8759e38-959f-4707-94b7-97074c29abc6-c000.json\n",
      "/home/jovyan/work/Documents/Projetos-Pessoais/testes-empresas/birdie/files/wiki_final/part-00195-b8759e38-959f-4707-94b7-97074c29abc6-c000.json\n",
      "/home/jovyan/work/Documents/Projetos-Pessoais/testes-empresas/birdie/files/wiki_final/part-00108-b8759e38-959f-4707-94b7-97074c29abc6-c000.json\n",
      "/home/jovyan/work/Documents/Projetos-Pessoais/testes-empresas/birdie/files/wiki_final/part-00173-b8759e38-959f-4707-94b7-97074c29abc6-c000.json\n",
      "/home/jovyan/work/Documents/Projetos-Pessoais/testes-empresas/birdie/files/wiki_final/part-00191-b8759e38-959f-4707-94b7-97074c29abc6-c000.json\n",
      "/home/jovyan/work/Documents/Projetos-Pessoais/testes-empresas/birdie/files/wiki_final/part-00085-b8759e38-959f-4707-94b7-97074c29abc6-c000.json\n",
      "/home/jovyan/work/Documents/Projetos-Pessoais/testes-empresas/birdie/files/wiki_final/part-00095-b8759e38-959f-4707-94b7-97074c29abc6-c000.json\n",
      "/home/jovyan/work/Documents/Projetos-Pessoais/testes-empresas/birdie/files/wiki_final/part-00168-b8759e38-959f-4707-94b7-97074c29abc6-c000.json\n",
      "/home/jovyan/work/Documents/Projetos-Pessoais/testes-empresas/birdie/files/wiki_final/part-00066-b8759e38-959f-4707-94b7-97074c29abc6-c000.json\n",
      "/home/jovyan/work/Documents/Projetos-Pessoais/testes-empresas/birdie/files/wiki_final/part-00077-b8759e38-959f-4707-94b7-97074c29abc6-c000.json\n",
      "/home/jovyan/work/Documents/Projetos-Pessoais/testes-empresas/birdie/files/wiki_final/part-00004-b8759e38-959f-4707-94b7-97074c29abc6-c000.json\n",
      "/home/jovyan/work/Documents/Projetos-Pessoais/testes-empresas/birdie/files/wiki_final/part-00039-b8759e38-959f-4707-94b7-97074c29abc6-c000.json\n",
      "/home/jovyan/work/Documents/Projetos-Pessoais/testes-empresas/birdie/files/wiki_final/part-00084-b8759e38-959f-4707-94b7-97074c29abc6-c000.json\n",
      "/home/jovyan/work/Documents/Projetos-Pessoais/testes-empresas/birdie/files/wiki_final/part-00093-b8759e38-959f-4707-94b7-97074c29abc6-c000.json\n",
      "/home/jovyan/work/Documents/Projetos-Pessoais/testes-empresas/birdie/files/wiki_final/part-00164-b8759e38-959f-4707-94b7-97074c29abc6-c000.json\n",
      "/home/jovyan/work/Documents/Projetos-Pessoais/testes-empresas/birdie/files/wiki_final/part-00189-b8759e38-959f-4707-94b7-97074c29abc6-c000.json\n",
      "/home/jovyan/work/Documents/Projetos-Pessoais/testes-empresas/birdie/files/wiki_final/part-00072-b8759e38-959f-4707-94b7-97074c29abc6-c000.json\n",
      "/home/jovyan/work/Documents/Projetos-Pessoais/testes-empresas/birdie/files/wiki_final/part-00046-b8759e38-959f-4707-94b7-97074c29abc6-c000.json\n",
      "/home/jovyan/work/Documents/Projetos-Pessoais/testes-empresas/birdie/files/wiki_final/part-00032-b8759e38-959f-4707-94b7-97074c29abc6-c000.json\n",
      "/home/jovyan/work/Documents/Projetos-Pessoais/testes-empresas/birdie/files/wiki_final/part-00041-b8759e38-959f-4707-94b7-97074c29abc6-c000.json\n",
      "/home/jovyan/work/Documents/Projetos-Pessoais/testes-empresas/birdie/files/wiki_final/part-00000-b8759e38-959f-4707-94b7-97074c29abc6-c000.json\n"
     ]
    },
    {
     "ename": "ConnectionTimeout",
     "evalue": "ConnectionTimeout caused by - ReadTimeoutError(HTTPConnectionPool(host='172.19.0.3', port=9200): Read timed out. (read timeout=30))",
     "output_type": "error",
     "traceback": [
      "\u001b[0;31m---------------------------------------------------------------------------\u001b[0m",
      "\u001b[0;31mtimeout\u001b[0m                                   Traceback (most recent call last)",
      "\u001b[0;32m/opt/conda/lib/python3.7/site-packages/urllib3/connectionpool.py\u001b[0m in \u001b[0;36m_make_request\u001b[0;34m(self, conn, method, url, timeout, chunked, **httplib_request_kw)\u001b[0m\n\u001b[1;32m    383\u001b[0m                     \u001b[0;31m# otherwise it looks like a programming error was the cause.\u001b[0m\u001b[0;34m\u001b[0m\u001b[0;34m\u001b[0m\u001b[0;34m\u001b[0m\u001b[0m\n\u001b[0;32m--> 384\u001b[0;31m                     \u001b[0msix\u001b[0m\u001b[0;34m.\u001b[0m\u001b[0mraise_from\u001b[0m\u001b[0;34m(\u001b[0m\u001b[0me\u001b[0m\u001b[0;34m,\u001b[0m \u001b[0;32mNone\u001b[0m\u001b[0;34m)\u001b[0m\u001b[0;34m\u001b[0m\u001b[0;34m\u001b[0m\u001b[0m\n\u001b[0m\u001b[1;32m    385\u001b[0m         \u001b[0;32mexcept\u001b[0m \u001b[0;34m(\u001b[0m\u001b[0mSocketTimeout\u001b[0m\u001b[0;34m,\u001b[0m \u001b[0mBaseSSLError\u001b[0m\u001b[0;34m,\u001b[0m \u001b[0mSocketError\u001b[0m\u001b[0;34m)\u001b[0m \u001b[0;32mas\u001b[0m \u001b[0me\u001b[0m\u001b[0;34m:\u001b[0m\u001b[0;34m\u001b[0m\u001b[0;34m\u001b[0m\u001b[0m\n",
      "\u001b[0;32m/opt/conda/lib/python3.7/site-packages/urllib3/packages/six.py\u001b[0m in \u001b[0;36mraise_from\u001b[0;34m(value, from_value)\u001b[0m\n",
      "\u001b[0;32m/opt/conda/lib/python3.7/site-packages/urllib3/connectionpool.py\u001b[0m in \u001b[0;36m_make_request\u001b[0;34m(self, conn, method, url, timeout, chunked, **httplib_request_kw)\u001b[0m\n\u001b[1;32m    379\u001b[0m                 \u001b[0;32mtry\u001b[0m\u001b[0;34m:\u001b[0m\u001b[0;34m\u001b[0m\u001b[0;34m\u001b[0m\u001b[0m\n\u001b[0;32m--> 380\u001b[0;31m                     \u001b[0mhttplib_response\u001b[0m \u001b[0;34m=\u001b[0m \u001b[0mconn\u001b[0m\u001b[0;34m.\u001b[0m\u001b[0mgetresponse\u001b[0m\u001b[0;34m(\u001b[0m\u001b[0;34m)\u001b[0m\u001b[0;34m\u001b[0m\u001b[0;34m\u001b[0m\u001b[0m\n\u001b[0m\u001b[1;32m    381\u001b[0m                 \u001b[0;32mexcept\u001b[0m \u001b[0mException\u001b[0m \u001b[0;32mas\u001b[0m \u001b[0me\u001b[0m\u001b[0;34m:\u001b[0m\u001b[0;34m\u001b[0m\u001b[0;34m\u001b[0m\u001b[0m\n",
      "\u001b[0;32m/opt/conda/lib/python3.7/http/client.py\u001b[0m in \u001b[0;36mgetresponse\u001b[0;34m(self)\u001b[0m\n\u001b[1;32m   1320\u001b[0m             \u001b[0;32mtry\u001b[0m\u001b[0;34m:\u001b[0m\u001b[0;34m\u001b[0m\u001b[0;34m\u001b[0m\u001b[0m\n\u001b[0;32m-> 1321\u001b[0;31m                 \u001b[0mresponse\u001b[0m\u001b[0;34m.\u001b[0m\u001b[0mbegin\u001b[0m\u001b[0;34m(\u001b[0m\u001b[0;34m)\u001b[0m\u001b[0;34m\u001b[0m\u001b[0;34m\u001b[0m\u001b[0m\n\u001b[0m\u001b[1;32m   1322\u001b[0m             \u001b[0;32mexcept\u001b[0m \u001b[0mConnectionError\u001b[0m\u001b[0;34m:\u001b[0m\u001b[0;34m\u001b[0m\u001b[0;34m\u001b[0m\u001b[0m\n",
      "\u001b[0;32m/opt/conda/lib/python3.7/http/client.py\u001b[0m in \u001b[0;36mbegin\u001b[0;34m(self)\u001b[0m\n\u001b[1;32m    295\u001b[0m         \u001b[0;32mwhile\u001b[0m \u001b[0;32mTrue\u001b[0m\u001b[0;34m:\u001b[0m\u001b[0;34m\u001b[0m\u001b[0;34m\u001b[0m\u001b[0m\n\u001b[0;32m--> 296\u001b[0;31m             \u001b[0mversion\u001b[0m\u001b[0;34m,\u001b[0m \u001b[0mstatus\u001b[0m\u001b[0;34m,\u001b[0m \u001b[0mreason\u001b[0m \u001b[0;34m=\u001b[0m \u001b[0mself\u001b[0m\u001b[0;34m.\u001b[0m\u001b[0m_read_status\u001b[0m\u001b[0;34m(\u001b[0m\u001b[0;34m)\u001b[0m\u001b[0;34m\u001b[0m\u001b[0;34m\u001b[0m\u001b[0m\n\u001b[0m\u001b[1;32m    297\u001b[0m             \u001b[0;32mif\u001b[0m \u001b[0mstatus\u001b[0m \u001b[0;34m!=\u001b[0m \u001b[0mCONTINUE\u001b[0m\u001b[0;34m:\u001b[0m\u001b[0;34m\u001b[0m\u001b[0;34m\u001b[0m\u001b[0m\n",
      "\u001b[0;32m/opt/conda/lib/python3.7/http/client.py\u001b[0m in \u001b[0;36m_read_status\u001b[0;34m(self)\u001b[0m\n\u001b[1;32m    256\u001b[0m     \u001b[0;32mdef\u001b[0m \u001b[0m_read_status\u001b[0m\u001b[0;34m(\u001b[0m\u001b[0mself\u001b[0m\u001b[0;34m)\u001b[0m\u001b[0;34m:\u001b[0m\u001b[0;34m\u001b[0m\u001b[0;34m\u001b[0m\u001b[0m\n\u001b[0;32m--> 257\u001b[0;31m         \u001b[0mline\u001b[0m \u001b[0;34m=\u001b[0m \u001b[0mstr\u001b[0m\u001b[0;34m(\u001b[0m\u001b[0mself\u001b[0m\u001b[0;34m.\u001b[0m\u001b[0mfp\u001b[0m\u001b[0;34m.\u001b[0m\u001b[0mreadline\u001b[0m\u001b[0;34m(\u001b[0m\u001b[0m_MAXLINE\u001b[0m \u001b[0;34m+\u001b[0m \u001b[0;36m1\u001b[0m\u001b[0;34m)\u001b[0m\u001b[0;34m,\u001b[0m \u001b[0;34m\"iso-8859-1\"\u001b[0m\u001b[0;34m)\u001b[0m\u001b[0;34m\u001b[0m\u001b[0;34m\u001b[0m\u001b[0m\n\u001b[0m\u001b[1;32m    258\u001b[0m         \u001b[0;32mif\u001b[0m \u001b[0mlen\u001b[0m\u001b[0;34m(\u001b[0m\u001b[0mline\u001b[0m\u001b[0;34m)\u001b[0m \u001b[0;34m>\u001b[0m \u001b[0m_MAXLINE\u001b[0m\u001b[0;34m:\u001b[0m\u001b[0;34m\u001b[0m\u001b[0;34m\u001b[0m\u001b[0m\n",
      "\u001b[0;32m/opt/conda/lib/python3.7/socket.py\u001b[0m in \u001b[0;36mreadinto\u001b[0;34m(self, b)\u001b[0m\n\u001b[1;32m    588\u001b[0m             \u001b[0;32mtry\u001b[0m\u001b[0;34m:\u001b[0m\u001b[0;34m\u001b[0m\u001b[0;34m\u001b[0m\u001b[0m\n\u001b[0;32m--> 589\u001b[0;31m                 \u001b[0;32mreturn\u001b[0m \u001b[0mself\u001b[0m\u001b[0;34m.\u001b[0m\u001b[0m_sock\u001b[0m\u001b[0;34m.\u001b[0m\u001b[0mrecv_into\u001b[0m\u001b[0;34m(\u001b[0m\u001b[0mb\u001b[0m\u001b[0;34m)\u001b[0m\u001b[0;34m\u001b[0m\u001b[0;34m\u001b[0m\u001b[0m\n\u001b[0m\u001b[1;32m    590\u001b[0m             \u001b[0;32mexcept\u001b[0m \u001b[0mtimeout\u001b[0m\u001b[0;34m:\u001b[0m\u001b[0;34m\u001b[0m\u001b[0;34m\u001b[0m\u001b[0m\n",
      "\u001b[0;31mtimeout\u001b[0m: timed out",
      "\nDuring handling of the above exception, another exception occurred:\n",
      "\u001b[0;31mReadTimeoutError\u001b[0m                          Traceback (most recent call last)",
      "\u001b[0;32m/opt/conda/lib/python3.7/site-packages/elasticsearch/connection/http_urllib3.py\u001b[0m in \u001b[0;36mperform_request\u001b[0;34m(self, method, url, params, body, timeout, ignore, headers)\u001b[0m\n\u001b[1;32m    219\u001b[0m             response = self.pool.urlopen(\n\u001b[0;32m--> 220\u001b[0;31m                 \u001b[0mmethod\u001b[0m\u001b[0;34m,\u001b[0m \u001b[0murl\u001b[0m\u001b[0;34m,\u001b[0m \u001b[0mbody\u001b[0m\u001b[0;34m,\u001b[0m \u001b[0mretries\u001b[0m\u001b[0;34m=\u001b[0m\u001b[0mRetry\u001b[0m\u001b[0;34m(\u001b[0m\u001b[0;32mFalse\u001b[0m\u001b[0;34m)\u001b[0m\u001b[0;34m,\u001b[0m \u001b[0mheaders\u001b[0m\u001b[0;34m=\u001b[0m\u001b[0mrequest_headers\u001b[0m\u001b[0;34m,\u001b[0m \u001b[0;34m**\u001b[0m\u001b[0mkw\u001b[0m\u001b[0;34m\u001b[0m\u001b[0;34m\u001b[0m\u001b[0m\n\u001b[0m\u001b[1;32m    221\u001b[0m             )\n",
      "\u001b[0;32m/opt/conda/lib/python3.7/site-packages/urllib3/connectionpool.py\u001b[0m in \u001b[0;36murlopen\u001b[0;34m(self, method, url, body, headers, retries, redirect, assert_same_host, timeout, pool_timeout, release_conn, chunked, body_pos, **response_kw)\u001b[0m\n\u001b[1;32m    637\u001b[0m             retries = retries.increment(method, url, error=e, _pool=self,\n\u001b[0;32m--> 638\u001b[0;31m                                         _stacktrace=sys.exc_info()[2])\n\u001b[0m\u001b[1;32m    639\u001b[0m             \u001b[0mretries\u001b[0m\u001b[0;34m.\u001b[0m\u001b[0msleep\u001b[0m\u001b[0;34m(\u001b[0m\u001b[0;34m)\u001b[0m\u001b[0;34m\u001b[0m\u001b[0;34m\u001b[0m\u001b[0m\n",
      "\u001b[0;32m/opt/conda/lib/python3.7/site-packages/urllib3/util/retry.py\u001b[0m in \u001b[0;36mincrement\u001b[0;34m(self, method, url, response, error, _pool, _stacktrace)\u001b[0m\n\u001b[1;32m    343\u001b[0m             \u001b[0;31m# Disabled, indicate to re-raise the error.\u001b[0m\u001b[0;34m\u001b[0m\u001b[0;34m\u001b[0m\u001b[0;34m\u001b[0m\u001b[0m\n\u001b[0;32m--> 344\u001b[0;31m             \u001b[0;32mraise\u001b[0m \u001b[0msix\u001b[0m\u001b[0;34m.\u001b[0m\u001b[0mreraise\u001b[0m\u001b[0;34m(\u001b[0m\u001b[0mtype\u001b[0m\u001b[0;34m(\u001b[0m\u001b[0merror\u001b[0m\u001b[0;34m)\u001b[0m\u001b[0;34m,\u001b[0m \u001b[0merror\u001b[0m\u001b[0;34m,\u001b[0m \u001b[0m_stacktrace\u001b[0m\u001b[0;34m)\u001b[0m\u001b[0;34m\u001b[0m\u001b[0;34m\u001b[0m\u001b[0m\n\u001b[0m\u001b[1;32m    345\u001b[0m \u001b[0;34m\u001b[0m\u001b[0m\n",
      "\u001b[0;32m/opt/conda/lib/python3.7/site-packages/urllib3/packages/six.py\u001b[0m in \u001b[0;36mreraise\u001b[0;34m(tp, value, tb)\u001b[0m\n\u001b[1;32m    685\u001b[0m             \u001b[0;32mraise\u001b[0m \u001b[0mvalue\u001b[0m\u001b[0;34m.\u001b[0m\u001b[0mwith_traceback\u001b[0m\u001b[0;34m(\u001b[0m\u001b[0mtb\u001b[0m\u001b[0;34m)\u001b[0m\u001b[0;34m\u001b[0m\u001b[0;34m\u001b[0m\u001b[0m\n\u001b[0;32m--> 686\u001b[0;31m         \u001b[0;32mraise\u001b[0m \u001b[0mvalue\u001b[0m\u001b[0;34m\u001b[0m\u001b[0;34m\u001b[0m\u001b[0m\n\u001b[0m\u001b[1;32m    687\u001b[0m \u001b[0;34m\u001b[0m\u001b[0m\n",
      "\u001b[0;32m/opt/conda/lib/python3.7/site-packages/urllib3/connectionpool.py\u001b[0m in \u001b[0;36murlopen\u001b[0;34m(self, method, url, body, headers, retries, redirect, assert_same_host, timeout, pool_timeout, release_conn, chunked, body_pos, **response_kw)\u001b[0m\n\u001b[1;32m    599\u001b[0m                                                   \u001b[0mbody\u001b[0m\u001b[0;34m=\u001b[0m\u001b[0mbody\u001b[0m\u001b[0;34m,\u001b[0m \u001b[0mheaders\u001b[0m\u001b[0;34m=\u001b[0m\u001b[0mheaders\u001b[0m\u001b[0;34m,\u001b[0m\u001b[0;34m\u001b[0m\u001b[0;34m\u001b[0m\u001b[0m\n\u001b[0;32m--> 600\u001b[0;31m                                                   chunked=chunked)\n\u001b[0m\u001b[1;32m    601\u001b[0m \u001b[0;34m\u001b[0m\u001b[0m\n",
      "\u001b[0;32m/opt/conda/lib/python3.7/site-packages/urllib3/connectionpool.py\u001b[0m in \u001b[0;36m_make_request\u001b[0;34m(self, conn, method, url, timeout, chunked, **httplib_request_kw)\u001b[0m\n\u001b[1;32m    385\u001b[0m         \u001b[0;32mexcept\u001b[0m \u001b[0;34m(\u001b[0m\u001b[0mSocketTimeout\u001b[0m\u001b[0;34m,\u001b[0m \u001b[0mBaseSSLError\u001b[0m\u001b[0;34m,\u001b[0m \u001b[0mSocketError\u001b[0m\u001b[0;34m)\u001b[0m \u001b[0;32mas\u001b[0m \u001b[0me\u001b[0m\u001b[0;34m:\u001b[0m\u001b[0;34m\u001b[0m\u001b[0;34m\u001b[0m\u001b[0m\n\u001b[0;32m--> 386\u001b[0;31m             \u001b[0mself\u001b[0m\u001b[0;34m.\u001b[0m\u001b[0m_raise_timeout\u001b[0m\u001b[0;34m(\u001b[0m\u001b[0merr\u001b[0m\u001b[0;34m=\u001b[0m\u001b[0me\u001b[0m\u001b[0;34m,\u001b[0m \u001b[0murl\u001b[0m\u001b[0;34m=\u001b[0m\u001b[0murl\u001b[0m\u001b[0;34m,\u001b[0m \u001b[0mtimeout_value\u001b[0m\u001b[0;34m=\u001b[0m\u001b[0mread_timeout\u001b[0m\u001b[0;34m)\u001b[0m\u001b[0;34m\u001b[0m\u001b[0;34m\u001b[0m\u001b[0m\n\u001b[0m\u001b[1;32m    387\u001b[0m             \u001b[0;32mraise\u001b[0m\u001b[0;34m\u001b[0m\u001b[0;34m\u001b[0m\u001b[0m\n",
      "\u001b[0;32m/opt/conda/lib/python3.7/site-packages/urllib3/connectionpool.py\u001b[0m in \u001b[0;36m_raise_timeout\u001b[0;34m(self, err, url, timeout_value)\u001b[0m\n\u001b[1;32m    305\u001b[0m         \u001b[0;32mif\u001b[0m \u001b[0misinstance\u001b[0m\u001b[0;34m(\u001b[0m\u001b[0merr\u001b[0m\u001b[0;34m,\u001b[0m \u001b[0mSocketTimeout\u001b[0m\u001b[0;34m)\u001b[0m\u001b[0;34m:\u001b[0m\u001b[0;34m\u001b[0m\u001b[0;34m\u001b[0m\u001b[0m\n\u001b[0;32m--> 306\u001b[0;31m             \u001b[0;32mraise\u001b[0m \u001b[0mReadTimeoutError\u001b[0m\u001b[0;34m(\u001b[0m\u001b[0mself\u001b[0m\u001b[0;34m,\u001b[0m \u001b[0murl\u001b[0m\u001b[0;34m,\u001b[0m \u001b[0;34m\"Read timed out. (read timeout=%s)\"\u001b[0m \u001b[0;34m%\u001b[0m \u001b[0mtimeout_value\u001b[0m\u001b[0;34m)\u001b[0m\u001b[0;34m\u001b[0m\u001b[0;34m\u001b[0m\u001b[0m\n\u001b[0m\u001b[1;32m    307\u001b[0m \u001b[0;34m\u001b[0m\u001b[0m\n",
      "\u001b[0;31mReadTimeoutError\u001b[0m: HTTPConnectionPool(host='172.19.0.3', port=9200): Read timed out. (read timeout=30)",
      "\nDuring handling of the above exception, another exception occurred:\n",
      "\u001b[0;31mConnectionTimeout\u001b[0m                         Traceback (most recent call last)",
      "\u001b[0;32m<ipython-input-113-7d098c77d4f8>\u001b[0m in \u001b[0;36m<module>\u001b[0;34m\u001b[0m\n\u001b[1;32m     11\u001b[0m             \u001b[0mdata\u001b[0m \u001b[0;34m=\u001b[0m \u001b[0;34m[\u001b[0m\u001b[0mjson\u001b[0m\u001b[0;34m.\u001b[0m\u001b[0mloads\u001b[0m\u001b[0;34m(\u001b[0m\u001b[0mline\u001b[0m\u001b[0;34m)\u001b[0m \u001b[0;32mfor\u001b[0m \u001b[0mline\u001b[0m \u001b[0;32min\u001b[0m \u001b[0mopen\u001b[0m\u001b[0;34m(\u001b[0m\u001b[0mdirectory\u001b[0m\u001b[0;34m+\u001b[0m\u001b[0mfilename\u001b[0m\u001b[0;34m)\u001b[0m\u001b[0;34m.\u001b[0m\u001b[0mreadlines\u001b[0m\u001b[0;34m(\u001b[0m\u001b[0;34m)\u001b[0m\u001b[0;34m]\u001b[0m\u001b[0;34m\u001b[0m\u001b[0;34m\u001b[0m\u001b[0m\n\u001b[1;32m     12\u001b[0m \u001b[0;34m\u001b[0m\u001b[0m\n\u001b[0;32m---> 13\u001b[0;31m             \u001b[0mhelpers\u001b[0m\u001b[0;34m.\u001b[0m\u001b[0mbulk\u001b[0m\u001b[0;34m(\u001b[0m\u001b[0mes\u001b[0m\u001b[0;34m,\u001b[0m \u001b[0mdata\u001b[0m\u001b[0;34m,\u001b[0m \u001b[0mindex\u001b[0m\u001b[0;34m=\u001b[0m\u001b[0;34m'birdie-wiki'\u001b[0m\u001b[0;34m,\u001b[0m \u001b[0mdoc_type\u001b[0m\u001b[0;34m=\u001b[0m\u001b[0;34m'articles'\u001b[0m\u001b[0;34m,\u001b[0m \u001b[0mrequest_timeout\u001b[0m\u001b[0;34m=\u001b[0m\u001b[0;36m30\u001b[0m\u001b[0;34m)\u001b[0m\u001b[0;34m\u001b[0m\u001b[0;34m\u001b[0m\u001b[0m\n\u001b[0m",
      "\u001b[0;32m/opt/conda/lib/python3.7/site-packages/elasticsearch/helpers/actions.py\u001b[0m in \u001b[0;36mbulk\u001b[0;34m(client, actions, stats_only, *args, **kwargs)\u001b[0m\n\u001b[1;32m    298\u001b[0m     \u001b[0;31m# make streaming_bulk yield successful results so we can count them\u001b[0m\u001b[0;34m\u001b[0m\u001b[0;34m\u001b[0m\u001b[0;34m\u001b[0m\u001b[0m\n\u001b[1;32m    299\u001b[0m     \u001b[0mkwargs\u001b[0m\u001b[0;34m[\u001b[0m\u001b[0;34m\"yield_ok\"\u001b[0m\u001b[0;34m]\u001b[0m \u001b[0;34m=\u001b[0m \u001b[0;32mTrue\u001b[0m\u001b[0;34m\u001b[0m\u001b[0;34m\u001b[0m\u001b[0m\n\u001b[0;32m--> 300\u001b[0;31m     \u001b[0;32mfor\u001b[0m \u001b[0mok\u001b[0m\u001b[0;34m,\u001b[0m \u001b[0mitem\u001b[0m \u001b[0;32min\u001b[0m \u001b[0mstreaming_bulk\u001b[0m\u001b[0;34m(\u001b[0m\u001b[0mclient\u001b[0m\u001b[0;34m,\u001b[0m \u001b[0mactions\u001b[0m\u001b[0;34m,\u001b[0m \u001b[0;34m*\u001b[0m\u001b[0margs\u001b[0m\u001b[0;34m,\u001b[0m \u001b[0;34m**\u001b[0m\u001b[0mkwargs\u001b[0m\u001b[0;34m)\u001b[0m\u001b[0;34m:\u001b[0m\u001b[0;34m\u001b[0m\u001b[0;34m\u001b[0m\u001b[0m\n\u001b[0m\u001b[1;32m    301\u001b[0m         \u001b[0;31m# go through request-response pairs and detect failures\u001b[0m\u001b[0;34m\u001b[0m\u001b[0;34m\u001b[0m\u001b[0;34m\u001b[0m\u001b[0m\n\u001b[1;32m    302\u001b[0m         \u001b[0;32mif\u001b[0m \u001b[0;32mnot\u001b[0m \u001b[0mok\u001b[0m\u001b[0;34m:\u001b[0m\u001b[0;34m\u001b[0m\u001b[0;34m\u001b[0m\u001b[0m\n",
      "\u001b[0;32m/opt/conda/lib/python3.7/site-packages/elasticsearch/helpers/actions.py\u001b[0m in \u001b[0;36mstreaming_bulk\u001b[0;34m(client, actions, chunk_size, max_chunk_bytes, raise_on_error, expand_action_callback, raise_on_exception, max_retries, initial_backoff, max_backoff, yield_ok, *args, **kwargs)\u001b[0m\n\u001b[1;32m    228\u001b[0m                         \u001b[0mraise_on_error\u001b[0m\u001b[0;34m,\u001b[0m\u001b[0;34m\u001b[0m\u001b[0;34m\u001b[0m\u001b[0m\n\u001b[1;32m    229\u001b[0m                         \u001b[0;34m*\u001b[0m\u001b[0margs\u001b[0m\u001b[0;34m,\u001b[0m\u001b[0;34m\u001b[0m\u001b[0;34m\u001b[0m\u001b[0m\n\u001b[0;32m--> 230\u001b[0;31m                         \u001b[0;34m**\u001b[0m\u001b[0mkwargs\u001b[0m\u001b[0;34m\u001b[0m\u001b[0;34m\u001b[0m\u001b[0m\n\u001b[0m\u001b[1;32m    231\u001b[0m                     ),\n\u001b[1;32m    232\u001b[0m                 ):\n",
      "\u001b[0;32m/opt/conda/lib/python3.7/site-packages/elasticsearch/helpers/actions.py\u001b[0m in \u001b[0;36m_process_bulk_chunk\u001b[0;34m(client, bulk_actions, bulk_data, raise_on_exception, raise_on_error, *args, **kwargs)\u001b[0m\n\u001b[1;32m    114\u001b[0m         \u001b[0;31m# default behavior - just propagate exception\u001b[0m\u001b[0;34m\u001b[0m\u001b[0;34m\u001b[0m\u001b[0;34m\u001b[0m\u001b[0m\n\u001b[1;32m    115\u001b[0m         \u001b[0;32mif\u001b[0m \u001b[0mraise_on_exception\u001b[0m\u001b[0;34m:\u001b[0m\u001b[0;34m\u001b[0m\u001b[0;34m\u001b[0m\u001b[0m\n\u001b[0;32m--> 116\u001b[0;31m             \u001b[0;32mraise\u001b[0m \u001b[0me\u001b[0m\u001b[0;34m\u001b[0m\u001b[0;34m\u001b[0m\u001b[0m\n\u001b[0m\u001b[1;32m    117\u001b[0m \u001b[0;34m\u001b[0m\u001b[0m\n\u001b[1;32m    118\u001b[0m         \u001b[0;31m# if we are not propagating, mark all actions in current chunk as failed\u001b[0m\u001b[0;34m\u001b[0m\u001b[0;34m\u001b[0m\u001b[0;34m\u001b[0m\u001b[0m\n",
      "\u001b[0;32m/opt/conda/lib/python3.7/site-packages/elasticsearch/helpers/actions.py\u001b[0m in \u001b[0;36m_process_bulk_chunk\u001b[0;34m(client, bulk_actions, bulk_data, raise_on_exception, raise_on_error, *args, **kwargs)\u001b[0m\n\u001b[1;32m    110\u001b[0m     \u001b[0;32mtry\u001b[0m\u001b[0;34m:\u001b[0m\u001b[0;34m\u001b[0m\u001b[0;34m\u001b[0m\u001b[0m\n\u001b[1;32m    111\u001b[0m         \u001b[0;31m# send the actual request\u001b[0m\u001b[0;34m\u001b[0m\u001b[0;34m\u001b[0m\u001b[0;34m\u001b[0m\u001b[0m\n\u001b[0;32m--> 112\u001b[0;31m         \u001b[0mresp\u001b[0m \u001b[0;34m=\u001b[0m \u001b[0mclient\u001b[0m\u001b[0;34m.\u001b[0m\u001b[0mbulk\u001b[0m\u001b[0;34m(\u001b[0m\u001b[0;34m\"\\n\"\u001b[0m\u001b[0;34m.\u001b[0m\u001b[0mjoin\u001b[0m\u001b[0;34m(\u001b[0m\u001b[0mbulk_actions\u001b[0m\u001b[0;34m)\u001b[0m \u001b[0;34m+\u001b[0m \u001b[0;34m\"\\n\"\u001b[0m\u001b[0;34m,\u001b[0m \u001b[0;34m*\u001b[0m\u001b[0margs\u001b[0m\u001b[0;34m,\u001b[0m \u001b[0;34m**\u001b[0m\u001b[0mkwargs\u001b[0m\u001b[0;34m)\u001b[0m\u001b[0;34m\u001b[0m\u001b[0;34m\u001b[0m\u001b[0m\n\u001b[0m\u001b[1;32m    113\u001b[0m     \u001b[0;32mexcept\u001b[0m \u001b[0mTransportError\u001b[0m \u001b[0;32mas\u001b[0m \u001b[0me\u001b[0m\u001b[0;34m:\u001b[0m\u001b[0;34m\u001b[0m\u001b[0;34m\u001b[0m\u001b[0m\n\u001b[1;32m    114\u001b[0m         \u001b[0;31m# default behavior - just propagate exception\u001b[0m\u001b[0;34m\u001b[0m\u001b[0;34m\u001b[0m\u001b[0;34m\u001b[0m\u001b[0m\n",
      "\u001b[0;32m/opt/conda/lib/python3.7/site-packages/elasticsearch/client/utils.py\u001b[0m in \u001b[0;36m_wrapped\u001b[0;34m(*args, **kwargs)\u001b[0m\n\u001b[1;32m     82\u001b[0m                 \u001b[0;32mif\u001b[0m \u001b[0mp\u001b[0m \u001b[0;32min\u001b[0m \u001b[0mkwargs\u001b[0m\u001b[0;34m:\u001b[0m\u001b[0;34m\u001b[0m\u001b[0;34m\u001b[0m\u001b[0m\n\u001b[1;32m     83\u001b[0m                     \u001b[0mparams\u001b[0m\u001b[0;34m[\u001b[0m\u001b[0mp\u001b[0m\u001b[0;34m]\u001b[0m \u001b[0;34m=\u001b[0m \u001b[0mkwargs\u001b[0m\u001b[0;34m.\u001b[0m\u001b[0mpop\u001b[0m\u001b[0;34m(\u001b[0m\u001b[0mp\u001b[0m\u001b[0;34m)\u001b[0m\u001b[0;34m\u001b[0m\u001b[0;34m\u001b[0m\u001b[0m\n\u001b[0;32m---> 84\u001b[0;31m             \u001b[0;32mreturn\u001b[0m \u001b[0mfunc\u001b[0m\u001b[0;34m(\u001b[0m\u001b[0;34m*\u001b[0m\u001b[0margs\u001b[0m\u001b[0;34m,\u001b[0m \u001b[0mparams\u001b[0m\u001b[0;34m=\u001b[0m\u001b[0mparams\u001b[0m\u001b[0;34m,\u001b[0m \u001b[0;34m**\u001b[0m\u001b[0mkwargs\u001b[0m\u001b[0;34m)\u001b[0m\u001b[0;34m\u001b[0m\u001b[0;34m\u001b[0m\u001b[0m\n\u001b[0m\u001b[1;32m     85\u001b[0m \u001b[0;34m\u001b[0m\u001b[0m\n\u001b[1;32m     86\u001b[0m         \u001b[0;32mreturn\u001b[0m \u001b[0m_wrapped\u001b[0m\u001b[0;34m\u001b[0m\u001b[0;34m\u001b[0m\u001b[0m\n",
      "\u001b[0;32m/opt/conda/lib/python3.7/site-packages/elasticsearch/client/__init__.py\u001b[0m in \u001b[0;36mbulk\u001b[0;34m(self, body, doc_type, index, params)\u001b[0m\n\u001b[1;32m   1496\u001b[0m             \u001b[0mparams\u001b[0m\u001b[0;34m=\u001b[0m\u001b[0mparams\u001b[0m\u001b[0;34m,\u001b[0m\u001b[0;34m\u001b[0m\u001b[0;34m\u001b[0m\u001b[0m\n\u001b[1;32m   1497\u001b[0m             \u001b[0mbody\u001b[0m\u001b[0;34m=\u001b[0m\u001b[0mself\u001b[0m\u001b[0;34m.\u001b[0m\u001b[0m_bulk_body\u001b[0m\u001b[0;34m(\u001b[0m\u001b[0mbody\u001b[0m\u001b[0;34m)\u001b[0m\u001b[0;34m,\u001b[0m\u001b[0;34m\u001b[0m\u001b[0;34m\u001b[0m\u001b[0m\n\u001b[0;32m-> 1498\u001b[0;31m             \u001b[0mheaders\u001b[0m\u001b[0;34m=\u001b[0m\u001b[0;34m{\u001b[0m\u001b[0;34m\"content-type\"\u001b[0m\u001b[0;34m:\u001b[0m \u001b[0;34m\"application/x-ndjson\"\u001b[0m\u001b[0;34m}\u001b[0m\u001b[0;34m,\u001b[0m\u001b[0;34m\u001b[0m\u001b[0;34m\u001b[0m\u001b[0m\n\u001b[0m\u001b[1;32m   1499\u001b[0m         )\n\u001b[1;32m   1500\u001b[0m \u001b[0;34m\u001b[0m\u001b[0m\n",
      "\u001b[0;32m/opt/conda/lib/python3.7/site-packages/elasticsearch/transport.py\u001b[0m in \u001b[0;36mperform_request\u001b[0;34m(self, method, url, headers, params, body)\u001b[0m\n\u001b[1;32m    351\u001b[0m                     \u001b[0mheaders\u001b[0m\u001b[0;34m=\u001b[0m\u001b[0mheaders\u001b[0m\u001b[0;34m,\u001b[0m\u001b[0;34m\u001b[0m\u001b[0;34m\u001b[0m\u001b[0m\n\u001b[1;32m    352\u001b[0m                     \u001b[0mignore\u001b[0m\u001b[0;34m=\u001b[0m\u001b[0mignore\u001b[0m\u001b[0;34m,\u001b[0m\u001b[0;34m\u001b[0m\u001b[0;34m\u001b[0m\u001b[0m\n\u001b[0;32m--> 353\u001b[0;31m                     \u001b[0mtimeout\u001b[0m\u001b[0;34m=\u001b[0m\u001b[0mtimeout\u001b[0m\u001b[0;34m,\u001b[0m\u001b[0;34m\u001b[0m\u001b[0;34m\u001b[0m\u001b[0m\n\u001b[0m\u001b[1;32m    354\u001b[0m                 )\n\u001b[1;32m    355\u001b[0m \u001b[0;34m\u001b[0m\u001b[0m\n",
      "\u001b[0;32m/opt/conda/lib/python3.7/site-packages/elasticsearch/connection/http_urllib3.py\u001b[0m in \u001b[0;36mperform_request\u001b[0;34m(self, method, url, params, body, timeout, ignore, headers)\u001b[0m\n\u001b[1;32m    229\u001b[0m                 \u001b[0;32mraise\u001b[0m \u001b[0mSSLError\u001b[0m\u001b[0;34m(\u001b[0m\u001b[0;34m\"N/A\"\u001b[0m\u001b[0;34m,\u001b[0m \u001b[0mstr\u001b[0m\u001b[0;34m(\u001b[0m\u001b[0me\u001b[0m\u001b[0;34m)\u001b[0m\u001b[0;34m,\u001b[0m \u001b[0me\u001b[0m\u001b[0;34m)\u001b[0m\u001b[0;34m\u001b[0m\u001b[0;34m\u001b[0m\u001b[0m\n\u001b[1;32m    230\u001b[0m             \u001b[0;32mif\u001b[0m \u001b[0misinstance\u001b[0m\u001b[0;34m(\u001b[0m\u001b[0me\u001b[0m\u001b[0;34m,\u001b[0m \u001b[0mReadTimeoutError\u001b[0m\u001b[0;34m)\u001b[0m\u001b[0;34m:\u001b[0m\u001b[0;34m\u001b[0m\u001b[0;34m\u001b[0m\u001b[0m\n\u001b[0;32m--> 231\u001b[0;31m                 \u001b[0;32mraise\u001b[0m \u001b[0mConnectionTimeout\u001b[0m\u001b[0;34m(\u001b[0m\u001b[0;34m\"TIMEOUT\"\u001b[0m\u001b[0;34m,\u001b[0m \u001b[0mstr\u001b[0m\u001b[0;34m(\u001b[0m\u001b[0me\u001b[0m\u001b[0;34m)\u001b[0m\u001b[0;34m,\u001b[0m \u001b[0me\u001b[0m\u001b[0;34m)\u001b[0m\u001b[0;34m\u001b[0m\u001b[0;34m\u001b[0m\u001b[0m\n\u001b[0m\u001b[1;32m    232\u001b[0m             \u001b[0;32mraise\u001b[0m \u001b[0mConnectionError\u001b[0m\u001b[0;34m(\u001b[0m\u001b[0;34m\"N/A\"\u001b[0m\u001b[0;34m,\u001b[0m \u001b[0mstr\u001b[0m\u001b[0;34m(\u001b[0m\u001b[0me\u001b[0m\u001b[0;34m)\u001b[0m\u001b[0;34m,\u001b[0m \u001b[0me\u001b[0m\u001b[0;34m)\u001b[0m\u001b[0;34m\u001b[0m\u001b[0;34m\u001b[0m\u001b[0m\n\u001b[1;32m    233\u001b[0m \u001b[0;34m\u001b[0m\u001b[0m\n",
      "\u001b[0;31mConnectionTimeout\u001b[0m: ConnectionTimeout caused by - ReadTimeoutError(HTTPConnectionPool(host='172.19.0.3', port=9200): Read timed out. (read timeout=30))"
     ]
    }
   ],
   "source": [
    "# \n",
    "for filename in os.listdir(directory):\n",
    "    if filename.endswith('.json'):\n",
    "        # recover all the json files\n",
    "        with open(directory+filename, 'r') as open_file:\n",
    "            \n",
    "            # open the json files and \n",
    "            data = [json.loads(line) for line in open(directory+filename).readlines()]\n",
    "            \n",
    "            helpers.bulk(es, data, index='birdie-wiki', doc_type='articles', request_timeout=40)\n"
   ]
  },
  {
   "cell_type": "code",
   "execution_count": 87,
   "metadata": {},
   "outputs": [
    {
     "ename": "FileNotFoundError",
     "evalue": "[Errno 2] No such file or directory: '-f'",
     "output_type": "error",
     "traceback": [
      "\u001b[0;31m---------------------------------------------------------------------------\u001b[0m",
      "\u001b[0;31mFileNotFoundError\u001b[0m                         Traceback (most recent call last)",
      "\u001b[0;32m<ipython-input-87-a874c53b3e17>\u001b[0m in \u001b[0;36m<module>\u001b[0;34m\u001b[0m\n\u001b[0;32m----> 1\u001b[0;31m \u001b[0mhelpers\u001b[0m\u001b[0;34m.\u001b[0m\u001b[0mbulk\u001b[0m\u001b[0;34m(\u001b[0m\u001b[0mes\u001b[0m\u001b[0;34m,\u001b[0m \u001b[0mload_json\u001b[0m\u001b[0;34m(\u001b[0m\u001b[0msys\u001b[0m\u001b[0;34m.\u001b[0m\u001b[0margv\u001b[0m\u001b[0;34m[\u001b[0m\u001b[0;36m1\u001b[0m\u001b[0;34m]\u001b[0m\u001b[0;34m)\u001b[0m\u001b[0;34m,\u001b[0m \u001b[0mindex\u001b[0m\u001b[0;34m=\u001b[0m\u001b[0;34m'wikibase'\u001b[0m\u001b[0;34m,\u001b[0m \u001b[0mdoc_type\u001b[0m\u001b[0;34m=\u001b[0m\u001b[0;34m'article'\u001b[0m\u001b[0;34m)\u001b[0m\u001b[0;34m\u001b[0m\u001b[0;34m\u001b[0m\u001b[0m\n\u001b[0m",
      "\u001b[0;32m<ipython-input-86-ebd7a122552c>\u001b[0m in \u001b[0;36mload_json\u001b[0;34m(directory)\u001b[0m\n\u001b[1;32m      4\u001b[0m \u001b[0;32mdef\u001b[0m \u001b[0mload_json\u001b[0m\u001b[0;34m(\u001b[0m\u001b[0mdirectory\u001b[0m\u001b[0;34m)\u001b[0m\u001b[0;34m:\u001b[0m\u001b[0;34m\u001b[0m\u001b[0;34m\u001b[0m\u001b[0m\n\u001b[1;32m      5\u001b[0m \u001b[0;34m\u001b[0m\u001b[0m\n\u001b[0;32m----> 6\u001b[0;31m     \u001b[0;32mfor\u001b[0m \u001b[0mfilename\u001b[0m \u001b[0;32min\u001b[0m \u001b[0mos\u001b[0m\u001b[0;34m.\u001b[0m\u001b[0mlistdir\u001b[0m\u001b[0;34m(\u001b[0m\u001b[0mdirectory\u001b[0m\u001b[0;34m)\u001b[0m\u001b[0;34m:\u001b[0m\u001b[0;34m\u001b[0m\u001b[0;34m\u001b[0m\u001b[0m\n\u001b[0m\u001b[1;32m      7\u001b[0m         \u001b[0;32mif\u001b[0m \u001b[0mfilename\u001b[0m\u001b[0;34m.\u001b[0m\u001b[0mendswith\u001b[0m\u001b[0;34m(\u001b[0m\u001b[0;34m'.json'\u001b[0m\u001b[0;34m)\u001b[0m\u001b[0;34m:\u001b[0m\u001b[0;34m\u001b[0m\u001b[0;34m\u001b[0m\u001b[0m\n\u001b[1;32m      8\u001b[0m             \u001b[0;31m# print(filename)\u001b[0m\u001b[0;34m\u001b[0m\u001b[0;34m\u001b[0m\u001b[0;34m\u001b[0m\u001b[0m\n",
      "\u001b[0;31mFileNotFoundError\u001b[0m: [Errno 2] No such file or directory: '-f'"
     ]
    }
   ],
   "source": [
    "helpers.bulk(es, load_json(sys.argv[1]), index='wikibase', doc_type='article')"
   ]
  },
  {
   "cell_type": "code",
   "execution_count": 101,
   "metadata": {},
   "outputs": [],
   "source": [
    "# guestFile = open(\"/home/jovyan/work/Documents/Projetos-Pessoais/testes-empresas/birdie/files/vai/part-00000-b8759e38-959f-4707-94b7-97074c29abc6-c000.json\",'r')\n",
    "# guestData = guestFile.read()\n",
    "# guestFile.close()\n",
    "# gdfJson = json.loads(guestData)\n",
    "\n",
    "\n",
    "data = [json.loads(line) for line in open('/home/jovyan/work/Documents/Projetos-Pessoais/testes-empresas/birdie/files/vai/part-00000-b8759e38-959f-4707-94b7-97074c29abc6-c000.json').readlines()]"
   ]
  },
  {
   "cell_type": "code",
   "execution_count": 102,
   "metadata": {},
   "outputs": [
    {
     "name": "stderr",
     "output_type": "stream",
     "text": [
      "IOPub data rate exceeded.\n",
      "The notebook server will temporarily stop sending output\n",
      "to the client in order to avoid crashing it.\n",
      "To change this limit, set the config variable\n",
      "`--NotebookApp.iopub_data_rate_limit`.\n",
      "\n",
      "Current values:\n",
      "NotebookApp.iopub_data_rate_limit=1000000.0 (bytes/sec)\n",
      "NotebookApp.rate_limit_window=3.0 (secs)\n",
      "\n"
     ]
    }
   ],
   "source": [
    "print(data)"
   ]
  }
 ],
 "metadata": {
  "kernelspec": {
   "display_name": "Python 3",
   "language": "python",
   "name": "python3"
  },
  "language_info": {
   "codemirror_mode": {
    "name": "ipython",
    "version": 3
   },
   "file_extension": ".py",
   "mimetype": "text/x-python",
   "name": "python",
   "nbconvert_exporter": "python",
   "pygments_lexer": "ipython3",
   "version": "3.7.3"
  }
 },
 "nbformat": 4,
 "nbformat_minor": 2
}
